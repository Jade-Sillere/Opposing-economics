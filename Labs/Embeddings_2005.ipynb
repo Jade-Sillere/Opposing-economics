{
 "cells": [
  {
   "cell_type": "markdown",
   "metadata": {},
   "source": [
    "#  NLP-lab :  Word embeddings\n",
    "\n",
    "In this series of exercises, we will explore three word embeddings:\n",
    "\n",
    "* [Collobert & Weston](http://www.jmlr.org/papers/volume12/collobert11a/collobert11a.pdf) https://ronan.collobert.com/senna/\n",
    "* [Word2Vec](https://arxiv.org/abs/1301.3781)\n",
    "* [BERT](https://huggingface.co/bert-base-uncased) \n",
    "\n",
    "\n",
    "In the code already provided, add your code to the place indicated by `YOUR CODE HERE`.\n",
    "\n",
    "**Important** : do NOT commit the data and embedding files in your repository git : it is a waste of resources and it takes more time to clone.\n",
    "> Use https://docs.github.com/en/get-started/getting-started-with-git/ignoring-files\n"
   ]
  },
  {
   "cell_type": "code",
   "execution_count": 1,
   "metadata": {},
   "outputs": [],
   "source": [
    "# basic imports\n",
    "import os\n",
    "import matplotlib.pyplot as plt\n",
    "# display matplotlib graphics in notebook\n",
    "%matplotlib inline \n",
    "import seaborn as sns\n",
    "\n",
    "# disable warnings for libraries\n",
    "import warnings\n",
    "warnings.filterwarnings(\"ignore\")\n",
    "\n",
    "# configure logger\n",
    "import logging\n",
    "logging.basicConfig(format='%(asctime)s %(levelname)s:%(message)s', level=logging.INFO, datefmt='%I:%M:%S')\n",
    "logger = logging.getLogger(__name__)\n"
   ]
  },
  {
   "cell_type": "markdown",
   "metadata": {},
   "source": [
    "###  Embeddings exploration with Collobert's embeddings\n",
    "\n",
    "Upload the files containing the embeddings to `data`:\n",
    "* Collobert (size 50): [collobert_embeddings.txt.zip](https://storage.teklia.com/shared/deepnlp-labs/collobert_embeddings.txt.zip) which contains the embedding vectors and [collobert_words.lst](https://storage.teklia.com/shared/deepnlp-labs/collobert_words.lst) which contains the associated words;\n",
    "\n",
    "You need to unzip the files to load them.\n",
    "\n",
    "Feel free to open the files to see what they contain (it's sometimes surprising).\n",
    "\n",
    "#### Question: \n",
    ">* Add the files to your .gitignore\n",
    ">* Give the size in Mb of the embeddings files before unzipping.\n",
    ">* By exploring the content of the embedding files, give the number of words for which these files provide embeddings.\n",
    "\n"
   ]
  },
  {
   "cell_type": "markdown",
   "metadata": {},
   "source": [
    "### List of closest words\n",
    "\n",
    "The aim of this exercise is to list the closest words to a given word for the Collobert embedding. First, we'll load the vectors of the Collobert embedding into a numpy array and the associated words into a python list. Then we'll use the [scipy KDTree](https://docs.scipy.org/doc/scipy/reference/generated/scipy.spatial.KDTree.html) data structure to quickly search for the vectors closest to a series of words.\n",
    "\n",
    "\n",
    "#### Question: \n",
    ">* load embedding vectors from the file `data/collobert_embeddings.txt` using the numpy function [genfromtxt](https://numpy.org/doc/stable/reference/generated/numpy.genfromtxt.html)\n",
    ">* load the words associated with the vectors from the `data/collobert_words.lst` file into a python list (using `open()` and `readlines()`)\n",
    ">* check that the sizes are correct\n"
   ]
  },
  {
   "cell_type": "code",
   "execution_count": 2,
   "metadata": {},
   "outputs": [],
   "source": [
    "import numpy as np\n",
    "# YOUR CODE HERE\n",
    "embeddings = np.genfromtxt(fname = \"C:/Users/Admin/Desktop/Polytechnique/Classes/Year 2/ML for NLP/Lab 2/collobert_embeddings.txt/collobert_embeddings.txt\")\n",
    "associated_words_file = open('C:/Users/Admin/Desktop/Polytechnique/Classes/Year 2/ML for NLP/Lab 2/collobert_words.lst', \"r\")\n",
    "associated_words = associated_words_file.readlines()"
   ]
  },
  {
   "cell_type": "code",
   "execution_count": 3,
   "metadata": {},
   "outputs": [],
   "source": [
    "associated_words_cleaned = [word.strip(\"''\\n\") for word in associated_words]"
   ]
  },
  {
   "cell_type": "code",
   "execution_count": 4,
   "metadata": {},
   "outputs": [
    {
     "data": {
      "text/plain": [
       "130000"
      ]
     },
     "execution_count": 4,
     "metadata": {},
     "output_type": "execute_result"
    }
   ],
   "source": [
    "len(embeddings)"
   ]
  },
  {
   "cell_type": "code",
   "execution_count": 5,
   "metadata": {},
   "outputs": [
    {
     "data": {
      "text/plain": [
       "130000"
      ]
     },
     "execution_count": 5,
     "metadata": {},
     "output_type": "execute_result"
    }
   ],
   "source": [
    "len(associated_words_cleaned)"
   ]
  },
  {
   "cell_type": "code",
   "execution_count": 6,
   "metadata": {},
   "outputs": [
    {
     "data": {
      "text/plain": [
       "['!',\n",
       " '!_____!____________!_____!_____!_______!_____!_______!______',\n",
       " '\"',\n",
       " '#',\n",
       " '####',\n",
       " '#0',\n",
       " '#0&btr',\n",
       " '#aaa',\n",
       " '#n',\n",
       " '#value',\n",
       " '$',\n",
       " '%',\n",
       " '&',\n",
       " '&money',\n",
       " '',\n",
       " '',\n",
       " '',\n",
       " '0',\n",
       " 'the',\n",
       " '0',\n",
       " 'a',\n",
       " 'admiral',\n",
       " 'alabama',\n",
       " 'angel',\n",
       " 'ark',\n",
       " 'arleigh',\n",
       " 'b',\n",
       " 'balao',\n",
       " 'banksia',\n",
       " 'big']"
      ]
     },
     "execution_count": 6,
     "metadata": {},
     "output_type": "execute_result"
    }
   ],
   "source": [
    "associated_words_cleaned[0:30] # sanity check"
   ]
  },
  {
   "cell_type": "markdown",
   "metadata": {},
   "source": [
    "KD trees are a very efficient data structure for storing large sets of points in a multi-dimensional space and performing very efficient nearest-neighbour searches. \n",
    "\n",
    "#### Question \n",
    "> * Initialise the [KDTree](https://docs.scipy.org/doc/scipy/reference/generated/scipy.spatial.KDTree.html) structure with Collobert's embedding vectors.\n",
    "> * Using the [tree.query](https://docs.scipy.org/doc/scipy/reference/generated/scipy.spatial.KDTree.query.html#scipy.spatial.KDTree.query) function, display the 5 nearest words for the following words: ‘mother’, ‘computer’, ‘dentist’, ‘war’, ‘president’, ‘secretary’, ‘nurse’.  *Hint: you can use the function `collobert_words.index(w)` to obtain the index of a word in the list of words*.\n",
    "> * Create a `words_plus_neighbors` list containing the words and all their neighbours (for the next question)"
   ]
  },
  {
   "cell_type": "code",
   "execution_count": 7,
   "metadata": {},
   "outputs": [],
   "source": [
    "from scipy import spatial\n",
    "# YOUR CODE HERE\n",
    "Tree = spatial.KDTree(embeddings, leafsize=10, compact_nodes=True, copy_data=False, balanced_tree=True, boxsize=None)\n",
    "\n",
    "# List of words to query\n",
    "words_to_query = [\"mother\", \"computer\", \"dentist\", \"war\", \"president\", \"secretary\", \"nurse\"]\n",
    "\n",
    "# Retrieve the corresponding embedding vectors for the words in the list\n",
    "query_vectors = [embeddings[associated_words_cleaned.index(word)] for word in words_to_query]\n",
    "\n",
    "\n",
    "query = Tree.query(x = query_vectors, k=6, eps=0, p=2, workers=1)"
   ]
  },
  {
   "cell_type": "code",
   "execution_count": 8,
   "metadata": {},
   "outputs": [
    {
     "data": {
      "text/plain": [
       "(array([[0.        , 5.09096831, 5.19349474, 5.25967874, 5.35891883,\n",
       "         5.49758726],\n",
       "        [0.        , 5.23605094, 5.26476447, 5.36753056, 5.51097693,\n",
       "         5.56122856],\n",
       "        [0.        , 4.12886132, 4.13920669, 4.15401864, 4.26289028,\n",
       "         4.30301021],\n",
       "        [0.        , 5.00655826, 6.12198214, 6.49449439, 6.53417711,\n",
       "         6.58270232],\n",
       "        [0.        , 3.91161704, 4.44697615, 5.01741291, 5.11765832,\n",
       "         5.12476109],\n",
       "        [0.        , 3.81400436, 4.30138433, 4.34857967, 4.66538398,\n",
       "         4.84104686],\n",
       "        [0.        , 4.80686177, 4.84554684, 4.87601675, 4.95665722,\n",
       "         5.04272867]]),\n",
       " array([[   276,    174, 119137,    385,    389, 110375],\n",
       "        [ 25035,  65005,  77223,  31257, 107905, 126758],\n",
       "        [ 30873,  87911,  74121,  88257,  53635, 123430],\n",
       "        [   396,    136,    205,    168, 118273,  15480],\n",
       "        [ 91285,  47732,  21148,  71901, 103110, 103697],\n",
       "        [103110,  74665, 118475,  21148,  24672, 120890],\n",
       "        [ 81489,  88257, 123430,  30873, 112584,  74121]], dtype=int64))"
      ]
     },
     "execution_count": 8,
     "metadata": {},
     "output_type": "execute_result"
    }
   ],
   "source": [
    "query"
   ]
  },
  {
   "cell_type": "code",
   "execution_count": 9,
   "metadata": {},
   "outputs": [],
   "source": [
    "distances, indices = query\n",
    "\n",
    "# Assuming associated_words_cleaned contains the list of words corresponding to the embeddings\n",
    "words_plus_neighbors = []\n",
    "\n",
    "# Convert indices back to words\n",
    "for id in indices:\n",
    "    # Get the words corresponding to the indices for the nearest neighbors\n",
    "    words = [associated_words_cleaned[i] for i in id]\n",
    "    words_plus_neighbors.append(words)"
   ]
  },
  {
   "cell_type": "code",
   "execution_count": 10,
   "metadata": {},
   "outputs": [
    {
     "data": {
      "text/plain": [
       "[['mother', 'e', 'tryin', 'u', 'v', 'stepsisters'],\n",
       " ['computer', 'laptop', 'multimedia', 'desktop', 'software', 'wiki'],\n",
       " ['dentist',\n",
       "  'pharmacist',\n",
       "  'midwife',\n",
       "  'physician',\n",
       "  'housekeeper',\n",
       "  'veterinarian'],\n",
       " ['war', 'battle', 'great', 'death', 'transmigration', 'borderland'],\n",
       " ['president', 'governor', 'chairman', 'mayor', 'secretary', 'senator'],\n",
       " ['secretary',\n",
       "  'minister',\n",
       "  'treasurer',\n",
       "  'chairman',\n",
       "  'commissioner',\n",
       "  'undersecretary'],\n",
       " ['nurse', 'physician', 'veterinarian', 'dentist', 'surgeon', 'midwife']]"
      ]
     },
     "execution_count": 10,
     "metadata": {},
     "output_type": "execute_result"
    }
   ],
   "source": [
    "words_plus_neighbors"
   ]
  },
  {
   "cell_type": "markdown",
   "metadata": {},
   "source": [
    "### Visualisation with T-SNE\n",
    "\n",
    "Embeddings are vectors with several hundred dimensions. It is therefore not possible to display them in their original space. However, it is possible to apply dimension reduction algorithms to display them in 2 or 3 dimensions. One of the dimension reduction algorithms allowing 2D visualisation is [tSNE](https://en.wikipedia.org/wiki/T-distributed_stochastic_neighbor_embedding). \n",
    "\n",
    "#### Question\n",
    "> * Create a `word_vectors` object of type `np.array` from a list containing all the embeddings of the words in the `words_plus_neighbors` list.\n",
    "> * Create a tSNE object from the `from sklearn.manifold import TSNE` library with the parameters `random_state=0`, `n_iter=2000` and `perplexity=15.0` for a 2-dimensional view.\n",
    "> * Calculate *T* the tSNE transformation of the `word_vectors` by applying function `.fit_transform(word_vectors)` to the tSNE object. This function estimates the parameters of the tSNE transformation and returns the reduced-dimension representation of the vectors used for estimation.\n",
    "> * Use the `scatterplot` function from [seaborn](https://seaborn.pydata.org/generated/seaborn.scatterplot.html) to represent points in 2 dimensions and add word labels using the `plt.annotate` function."
   ]
  },
  {
   "cell_type": "code",
   "execution_count": 11,
   "metadata": {},
   "outputs": [],
   "source": [
    "from sklearn.manifold import TSNE\n",
    "tSNE_transform = TSNE(n_components=2, perplexity=15.0, n_iter=2000, random_state=0)\n"
   ]
  },
  {
   "cell_type": "code",
   "execution_count": 12,
   "metadata": {},
   "outputs": [
    {
     "data": {
      "image/png": "[encoded data removed]",
      "text/plain": [
       "<Figure size 640x480 with 1 Axes>"
      ]
     },
     "metadata": {},
     "output_type": "display_data"
    }
   ],
   "source": [
    "from sklearn.manifold import TSNE\n",
    "# graphics\n",
    "import matplotlib.pyplot as plt\n",
    "# display matplotlib graphics in notebook\n",
    "%matplotlib inline \n",
    "import seaborn as sns\n",
    "\n",
    "# retrieve the word representation\n",
    "# List to store all word embeddings\n",
    "word_embeddings = []\n",
    "\n",
    "# Iterate through each tuple of words (target word + neighbors)\n",
    "for word_tuple in words_plus_neighbors:\n",
    "    # For each word in the tuple, find its embedding and append to word_embeddings\n",
    "    for word in word_tuple:\n",
    "        # Get the index of the word in the associated_words_cleaned list\n",
    "        word_index = associated_words_cleaned.index(word)\n",
    "        \n",
    "        # Append the embedding of the word to word_embeddings\n",
    "        word_embeddings.append(embeddings[word_index])\n",
    "\n",
    "# Convert the list of embeddings to a NumPy array\n",
    "word_vectors = np.array(word_embeddings)\n",
    "\n",
    "# print(word_vectors) sanity check\n",
    "\n",
    "\n",
    "# create the tSNE transform\n",
    "tSNE_transform = TSNE(n_components=2, perplexity=15.0, n_iter=2000, random_state=0)\n",
    "\n",
    "# fit and transform the word vectors, store in T\n",
    "T = tSNE_transform.fit_transform(word_vectors)\n",
    "\n",
    "# plot\n",
    "fig = plt.figure()\n",
    "fig.patch.set_facecolor('#f9f9f9')\n",
    "\n",
    "sns.set(rc={'figure.figsize':(14, 8)})\n",
    "sns.set(font_scale=1)\n",
    "\n",
    "sns.scatterplot(x=T[:, 0], y=T[:, 1])\n",
    "\n",
    "long_list_of_words = [item for sublist in words_plus_neighbors for item in sublist]\n",
    "\n",
    "for label, (x, y) in zip(long_list_of_words, T):\n",
    "    plt.annotate(label, xy=(x, y), xytext = (1,1), textcoords='offset points')\n",
    "\n"
   ]
  },
  {
   "cell_type": "markdown",
   "metadata": {},
   "source": [
    "### Semantic arithmetic with Word2Vec\n",
    "\n",
    "One of the most original properties of Word2Vec embeddings is that the semantic relationships between vectors can be modelled by arithmetic operations. Given vectors representing the words `king`, `man` and `woman`, it is possible to compute the vector `v` as :  \n",
    "\n",
    "`v = vector(king)-vector(man)+vector(woman)`\n",
    "\n",
    "This operation corresponds to the following semantic relationship: *The king is to the man what the queen is to the woman*, which translates into the following arithmetic: *the concept of king, minus the concept of man plus the concept of woman gives the concept of queen*.\n",
    "\n",
    "In fact, if we look in the embedding for the word whose closest vector is `v`, we find `reine`.\n",
    "\n",
    "\n",
    "We will use a Word2Vec model pre-trained on the French Wac corpus.  This model has been trained on a corpus of 1 billion French words. \n",
    "\n",
    "This embedding is available in 2 formats:\n",
    "- a text format for easy exploration of the model :\n",
    "    - frWac_non_lem_no_postag_no_phrase_200_cbow_cut100.txt](https://storage.teklia.com/shared/deepnlp-labs/frWac_non_lem_no_postag_no_phrase_200_cbow_cut100.txt)\n",
    "- a binary format that can be loaded using the Gensim library: \n",
    "    - [enWac_non_lem_no_postag_no_phrase_200_cbow_cut100.bin](https://storage.teklia.com/shared/deepnlp-labs/frWac_non_lem_no_postag_no_phrase_200_cbow_cut100.bin)\n",
    "\n",
    "Download the text file onto your machine to analyse it.\n",
    "\n",
    "#### Question: \n",
    ">* Add the file to your .gitignore\n",
    ">* Give the size in Mb of the embedding files\n",
    ">* By exploring the contents of the embedding file in text format, give the number of words for which this model provides embeddings and the size of the embedding for each word.\n",
    "\n"
   ]
  },
  {
   "cell_type": "markdown",
   "metadata": {},
   "source": [
    "YOUR ANSWER HERE"
   ]
  },
  {
   "cell_type": "markdown",
   "metadata": {},
   "source": [
    "#### Word similarity\n",
    "\n",
    "We are now going to use the [Gensim] library (https://radimrehurek.com/gensim/) to load the Word2Vec model and use it. \n",
    "\n",
    "#### Question: \n",
    ">* Modify the following code to load the Word2Vec template file in binary format using [load_word2vec](https://radimrehurek.com/gensim/models/keyedvectors.html#how-to-obtain-word-vectors)\n",
    ">* Choose a couple of words and find the closest words according to the model using [most_similar](https://radimrehurek.com/gensim/models/keyedvectors.html#gensim.models.keyedvectors.KeyedVectors.most_similar)\n",
    ">* To guess the meaning of the words ‘yokohama’, ‘kanto’ and ‘shamisen’, look for their nearest neighbours. Explain the results.\n"
   ]
  },
  {
   "cell_type": "code",
   "execution_count": 23,
   "metadata": {},
   "outputs": [
    {
     "name": "stderr",
     "output_type": "stream",
     "text": [
      "05:27:23 INFO:loading projection weights from C:/Users/Admin/Desktop/Polytechnique/Classes/Year 2/ML for NLP/Lab 2/frWac_non_lem_no_postag_no_phrase_200_cbow_cut100.bin\n",
      "05:27:24 INFO:KeyedVectors lifecycle event {'msg': 'loaded (155562, 200) matrix of type float32 from C:/Users/Admin/Desktop/Polytechnique/Classes/Year 2/ML for NLP/Lab 2/frWac_non_lem_no_postag_no_phrase_200_cbow_cut100.bin', 'binary': True, 'encoding': 'utf8', 'datetime': '2025-02-21T17:27:24.683680', 'gensim': '4.3.3', 'python': '3.11.5 (tags/v3.11.5:cce6ba9, Aug 24 2023, 14:38:34) [MSC v.1936 64 bit (AMD64)]', 'platform': 'Windows-10-10.0.19045-SP0', 'event': 'load_word2vec_format'}\n"
     ]
    },
    {
     "data": {
      "text/plain": [
       "[('commandeur', 0.6844523549079895),\n",
       " ('chevaliers', 0.6799763441085815),\n",
       " ('écuyer', 0.6333731412887573),\n",
       " ('grand-croix', 0.621898353099823),\n",
       " ('preux', 0.6011075377464294),\n",
       " ('chevalerie', 0.5404021143913269),\n",
       " ('légion', 0.5335969924926758),\n",
       " ('honneur', 0.4953608810901642),\n",
       " ('yvain', 0.4855087101459503),\n",
       " ('insignes', 0.4742659330368042)]"
      ]
     },
     "execution_count": 23,
     "metadata": {},
     "output_type": "execute_result"
    }
   ],
   "source": [
    "from gensim.models import KeyedVectors\n",
    "\n",
    "## YOUR CODE HERE\n",
    "embedding_file =\"C:/Users/Admin/Desktop/Polytechnique/Classes/Year 2/ML for NLP/Lab 2/frWac_non_lem_no_postag_no_phrase_200_cbow_cut100.bin\"\n",
    "model = KeyedVectors.load_word2vec_format(embedding_file, binary=True, unicode_errors=\"ignore\")\n",
    "## YOUR CODE HERE\n",
    "model.most_similar(\"chevalier\")"
   ]
  },
  {
   "cell_type": "code",
   "execution_count": 14,
   "metadata": {},
   "outputs": [
    {
     "data": {
      "text/plain": [
       "[('tokyo', 0.7117858529090881),\n",
       " ('tôkyô', 0.6314416527748108),\n",
       " ('japon', 0.621522068977356),\n",
       " ('nagoya', 0.6198478937149048),\n",
       " ('kyushu', 0.6141085028648376),\n",
       " ('osaka', 0.6123895645141602),\n",
       " ('fukuoka', 0.5612888932228088),\n",
       " ('japonaise', 0.5507326126098633),\n",
       " ('sendai', 0.5496150255203247),\n",
       " ('japonais', 0.5391373038291931)]"
      ]
     },
     "execution_count": 14,
     "metadata": {},
     "output_type": "execute_result"
    }
   ],
   "source": [
    "model.most_similar(\"yokohama\")"
   ]
  },
  {
   "cell_type": "code",
   "execution_count": 15,
   "metadata": {},
   "outputs": [
    {
     "data": {
      "text/plain": [
       "[('pokémon', 0.5426285266876221),\n",
       " ('mewtwo', 0.5076008439064026),\n",
       " ('pokémons', 0.4970632791519165),\n",
       " ('saito', 0.4549728333950043),\n",
       " ('pokédex', 0.448673278093338),\n",
       " ('yusuke', 0.44163110852241516),\n",
       " ('osaka', 0.4372847080230713),\n",
       " ('shôgun', 0.4324425756931305),\n",
       " ('jin', 0.42604973912239075),\n",
       " ('honshu', 0.42374101281166077)]"
      ]
     },
     "execution_count": 15,
     "metadata": {},
     "output_type": "execute_result"
    }
   ],
   "source": [
    "model.most_similar(\"kanto\")"
   ]
  },
  {
   "cell_type": "code",
   "execution_count": 27,
   "metadata": {},
   "outputs": [
    {
     "ename": "KeyError",
     "evalue": "\"Key 'shamisen' not present in vocabulary\"",
     "output_type": "error",
     "traceback": [
      "\u001b[1;31m---------------------------------------------------------------------------\u001b[0m",
      "\u001b[1;31mKeyError\u001b[0m                                  Traceback (most recent call last)",
      "Cell \u001b[1;32mIn[27], line 1\u001b[0m\n\u001b[1;32m----> 1\u001b[0m \u001b[43mmodel\u001b[49m\u001b[38;5;241;43m.\u001b[39;49m\u001b[43mmost_similar\u001b[49m\u001b[43m(\u001b[49m\u001b[38;5;124;43m\"\u001b[39;49m\u001b[38;5;124;43mshamisen\u001b[39;49m\u001b[38;5;124;43m\"\u001b[39;49m\u001b[43m)\u001b[49m\n",
      "File \u001b[1;32m~\\AppData\\Local\\Programs\\Python\\Python311\\Lib\\site-packages\\gensim\\models\\keyedvectors.py:841\u001b[0m, in \u001b[0;36mKeyedVectors.most_similar\u001b[1;34m(self, positive, negative, topn, clip_start, clip_end, restrict_vocab, indexer)\u001b[0m\n\u001b[0;32m    838\u001b[0m         weight[idx] \u001b[38;5;241m=\u001b[39m item[\u001b[38;5;241m1\u001b[39m]\n\u001b[0;32m    840\u001b[0m \u001b[38;5;66;03m# compute the weighted average of all keys\u001b[39;00m\n\u001b[1;32m--> 841\u001b[0m mean \u001b[38;5;241m=\u001b[39m \u001b[38;5;28;43mself\u001b[39;49m\u001b[38;5;241;43m.\u001b[39;49m\u001b[43mget_mean_vector\u001b[49m\u001b[43m(\u001b[49m\u001b[43mkeys\u001b[49m\u001b[43m,\u001b[49m\u001b[43m \u001b[49m\u001b[43mweight\u001b[49m\u001b[43m,\u001b[49m\u001b[43m \u001b[49m\u001b[43mpre_normalize\u001b[49m\u001b[38;5;241;43m=\u001b[39;49m\u001b[38;5;28;43;01mTrue\u001b[39;49;00m\u001b[43m,\u001b[49m\u001b[43m \u001b[49m\u001b[43mpost_normalize\u001b[49m\u001b[38;5;241;43m=\u001b[39;49m\u001b[38;5;28;43;01mTrue\u001b[39;49;00m\u001b[43m,\u001b[49m\u001b[43m \u001b[49m\u001b[43mignore_missing\u001b[49m\u001b[38;5;241;43m=\u001b[39;49m\u001b[38;5;28;43;01mFalse\u001b[39;49;00m\u001b[43m)\u001b[49m\n\u001b[0;32m    842\u001b[0m all_keys \u001b[38;5;241m=\u001b[39m [\n\u001b[0;32m    843\u001b[0m     \u001b[38;5;28mself\u001b[39m\u001b[38;5;241m.\u001b[39mget_index(key) \u001b[38;5;28;01mfor\u001b[39;00m key \u001b[38;5;129;01min\u001b[39;00m keys \u001b[38;5;28;01mif\u001b[39;00m \u001b[38;5;28misinstance\u001b[39m(key, _KEY_TYPES) \u001b[38;5;129;01mand\u001b[39;00m \u001b[38;5;28mself\u001b[39m\u001b[38;5;241m.\u001b[39mhas_index_for(key)\n\u001b[0;32m    844\u001b[0m ]\n\u001b[0;32m    846\u001b[0m \u001b[38;5;28;01mif\u001b[39;00m indexer \u001b[38;5;129;01mis\u001b[39;00m \u001b[38;5;129;01mnot\u001b[39;00m \u001b[38;5;28;01mNone\u001b[39;00m \u001b[38;5;129;01mand\u001b[39;00m \u001b[38;5;28misinstance\u001b[39m(topn, \u001b[38;5;28mint\u001b[39m):\n",
      "File \u001b[1;32m~\\AppData\\Local\\Programs\\Python\\Python311\\Lib\\site-packages\\gensim\\models\\keyedvectors.py:518\u001b[0m, in \u001b[0;36mKeyedVectors.get_mean_vector\u001b[1;34m(self, keys, weights, pre_normalize, post_normalize, ignore_missing)\u001b[0m\n\u001b[0;32m    516\u001b[0m         total_weight \u001b[38;5;241m+\u001b[39m\u001b[38;5;241m=\u001b[39m \u001b[38;5;28mabs\u001b[39m(weights[idx])\n\u001b[0;32m    517\u001b[0m     \u001b[38;5;28;01melif\u001b[39;00m \u001b[38;5;129;01mnot\u001b[39;00m ignore_missing:\n\u001b[1;32m--> 518\u001b[0m         \u001b[38;5;28;01mraise\u001b[39;00m \u001b[38;5;167;01mKeyError\u001b[39;00m(\u001b[38;5;124mf\u001b[39m\u001b[38;5;124m\"\u001b[39m\u001b[38;5;124mKey \u001b[39m\u001b[38;5;124m'\u001b[39m\u001b[38;5;132;01m{\u001b[39;00mkey\u001b[38;5;132;01m}\u001b[39;00m\u001b[38;5;124m'\u001b[39m\u001b[38;5;124m not present in vocabulary\u001b[39m\u001b[38;5;124m\"\u001b[39m)\n\u001b[0;32m    520\u001b[0m \u001b[38;5;28;01mif\u001b[39;00m total_weight \u001b[38;5;241m>\u001b[39m \u001b[38;5;241m0\u001b[39m:\n\u001b[0;32m    521\u001b[0m     mean \u001b[38;5;241m=\u001b[39m mean \u001b[38;5;241m/\u001b[39m total_weight\n",
      "\u001b[1;31mKeyError\u001b[0m: \"Key 'shamisen' not present in vocabulary\""
     ]
    }
   ],
   "source": [
    "model.most_similar(\"shamisen\")"
   ]
  },
  {
   "cell_type": "markdown",
   "metadata": {},
   "source": [
    "#### Semantic arithmetic\n",
    "\n",
    "One of the most original properties of Word2Vec embeddings is that the semantic relationships between vectors can be modelled by arithmetic operations. Given vectors representing the words `king`, `man` and `woman`, it is possible to compute the vector `v` as :  \n",
    "\n",
    "`v = vector(king)-vector(man)+vector(woman)`\n",
    "\n",
    "This operation corresponds to the following semantic relationship: *The king is to the man what the queen is to the woman*, which translates into the following arithmetic: *the concept of king, minus the concept of man plus the concept of woman gives the concept of queen*.\n",
    "\n",
    "In fact, if we look in the embedding for the word whose closest vector is `v`, we find `reine`.\n",
    "\n",
    "#### Question: \n",
    ">* using the function [most_similar](https://radimrehurek.com/gensim/models/keyedvectors.html#gensim.models.keyedvectors.KeyedVectors.most_similar) specifying the arguments `positive` for the vectors to be added and `negative` for the vectors to be subtracted, check the relationship *the concept of king, minus the concept of man plus the concept of woman gives the concept of queen*.\n",
    ">* Using the same method, find XXX in the following semantic relations\n",
    ">   * Paris is to France what XXX is to Japan.\n",
    ">   * Chevalier is to France what XXX is to Japan."
   ]
  },
  {
   "cell_type": "code",
   "execution_count": 24,
   "metadata": {},
   "outputs": [
    {
     "data": {
      "text/plain": [
       "[('jessica', 0.42259857058525085),\n",
       " ('harper', 0.4181753098964691),\n",
       " ('pamela', 0.40952324867248535),\n",
       " ('burr', 0.39070361852645874),\n",
       " ('maggie', 0.3563395142555237),\n",
       " ('kathleen', 0.34112349152565),\n",
       " ('connolly', 0.33831533789634705),\n",
       " ('dixon', 0.33484765887260437),\n",
       " ('macdonald', 0.33390098810195923),\n",
       " ('horse', 0.3334963023662567)]"
      ]
     },
     "execution_count": 24,
     "metadata": {},
     "output_type": "execute_result"
    }
   ],
   "source": [
    "model.most_similar(positive=[\"king\", \"woman\"], negative = [\"man\"])"
   ]
  },
  {
   "cell_type": "code",
   "execution_count": 17,
   "metadata": {},
   "outputs": [
    {
     "name": "stdout",
     "output_type": "stream",
     "text": [
      "[('king', 0.7344490885734558), ('woman', 0.5307633280754089), ('harper', 0.45380663871765137), ('jessica', 0.4257306456565857), ('burr', 0.413531631231308), ('pamela', 0.413022518157959), ('dixon', 0.3721335232257843), ('sommers', 0.36760011315345764), ('bradshaw', 0.36261966824531555), ('maggie', 0.3614776134490967)]\n"
     ]
    }
   ],
   "source": [
    "king = model['king']\n",
    "man = model['man']\n",
    "woman = model['woman']\n",
    "\n",
    "# Perform the vector operation: king - man + woman\n",
    "result_vector = king - man + woman\n",
    "\n",
    "# Find the most similar words to the resulting vector\n",
    "similar_words = model.most_similar([result_vector], topn=10)\n",
    "print(similar_words)"
   ]
  },
  {
   "cell_type": "code",
   "execution_count": 25,
   "metadata": {},
   "outputs": [
    {
     "data": {
      "text/plain": [
       "[('tokyo', 0.5351522564888),\n",
       " ('tôkyô', 0.4936957359313965),\n",
       " ('expo', 0.4700765609741211),\n",
       " ('harajuku', 0.4571351706981659),\n",
       " ('shinjuku', 0.4434269666671753),\n",
       " ('ueno', 0.4403804838657379),\n",
       " ('kanazawa', 0.43515098094940186),\n",
       " ('m°', 0.4342210292816162),\n",
       " ('shibuya', 0.428426057100296),\n",
       " ('ginza', 0.42010074853897095)]"
      ]
     },
     "execution_count": 25,
     "metadata": {},
     "output_type": "execute_result"
    }
   ],
   "source": [
    "model.most_similar(positive=[\"paris\", \"japan\"], negative = [\"france\"])"
   ]
  },
  {
   "cell_type": "code",
   "execution_count": 18,
   "metadata": {},
   "outputs": [
    {
     "name": "stdout",
     "output_type": "stream",
     "text": [
      "[('japan', 0.8966596126556396), ('tokyo', 0.6355986595153809), ('tôkyô', 0.5446943640708923), ('expo', 0.5287675857543945), ('harajuku', 0.5261783599853516), ('nagoya', 0.5155043005943298), ('kanazawa', 0.48241904377937317), ('japonaise', 0.4788423478603363), ('jsps', 0.4787425994873047), ('osaka', 0.4779112935066223)]\n"
     ]
    }
   ],
   "source": [
    "paris = model['paris']\n",
    "france = model['france']\n",
    "japan = model['japan']\n",
    "\n",
    "# Perform the vector operation: king - man + woman\n",
    "result_vector_2 = paris - france + japan\n",
    "\n",
    "# Find the most similar words to the resulting vector\n",
    "similar_words_2 = model.most_similar([result_vector_2], topn=10)\n",
    "print(similar_words_2)"
   ]
  },
  {
   "cell_type": "code",
   "execution_count": 26,
   "metadata": {},
   "outputs": [
    {
     "data": {
      "text/plain": [
       "[('écuyer', 0.4263891577720642),\n",
       " ('chevaliers', 0.4156939685344696),\n",
       " ('samouraï', 0.4113287329673767),\n",
       " ('hiroyuki', 0.40710723400115967),\n",
       " ('edo', 0.40522363781929016),\n",
       " ('kurama', 0.4022105038166046),\n",
       " ('sailor', 0.3987884223461151),\n",
       " ('samurai', 0.39625242352485657),\n",
       " ('dragon', 0.3919217884540558),\n",
       " ('fujiwara', 0.38669532537460327)]"
      ]
     },
     "execution_count": 26,
     "metadata": {},
     "output_type": "execute_result"
    }
   ],
   "source": [
    "model.most_similar(positive=[\"chevalier\", \"japan\"], negative = [\"france\"])"
   ]
  },
  {
   "cell_type": "code",
   "execution_count": 19,
   "metadata": {},
   "outputs": [
    {
     "name": "stdout",
     "output_type": "stream",
     "text": [
      "[('japan', 0.7439030408859253), ('chevalier', 0.6094721555709839), ('nihon', 0.45303118228912354), ('écuyer', 0.4454742968082428), ('edo', 0.4404366612434387), ('tokyo', 0.43650081753730774), ('chevaliers', 0.4351336658000946), ('hiroyuki', 0.4229882061481476), ('kurama', 0.4200062155723572), ('artbook', 0.41979992389678955)]\n"
     ]
    }
   ],
   "source": [
    "chevalier = model['chevalier']\n",
    "france = model['france']\n",
    "japan = model['japan']\n",
    "\n",
    "# Perform the vector operation: king - man + woman\n",
    "result_vector_3 = chevalier - france + japan\n",
    "\n",
    "# Find the most similar words to the resulting vector\n",
    "similar_words_3 = model.most_similar([result_vector_3], topn=10)\n",
    "print(similar_words_3)"
   ]
  },
  {
   "cell_type": "markdown",
   "metadata": {},
   "source": [
    "## Contextual embeddings with BERT \n",
    "\n",
    "BERT was one of the first freely available Transformer language models, trained on large corpora. Many other models are available on HuggingFace.\n",
    "\n",
    "As BERT is a contextual model, it is necessary to have it predict whole sentences in order to study the word embeddings it produces. In this section, we will compare the embeddings obtained for polysemous words according to the sentence in which they are used.\n",
    "\n",
    "In English, *plant* has two meanings: plant and vegetable. With a non-contextual embedding, such as Glove or Colobert, these two meanings of the word plus are associated with an identical embedding. With BERT, we'll see that the same word can have several embeddings depending on the context.\n",
    "\n",
    "First, load the BERT model and tokenizer from HuggingFace : "
   ]
  },
  {
   "cell_type": "code",
   "execution_count": 28,
   "metadata": {},
   "outputs": [
    {
     "data": {
      "text/plain": [
       "BertModel(\n",
       "  (embeddings): BertEmbeddings(\n",
       "    (word_embeddings): Embedding(30522, 768, padding_idx=0)\n",
       "    (position_embeddings): Embedding(512, 768)\n",
       "    (token_type_embeddings): Embedding(2, 768)\n",
       "    (LayerNorm): LayerNorm((768,), eps=1e-12, elementwise_affine=True)\n",
       "    (dropout): Dropout(p=0.1, inplace=False)\n",
       "  )\n",
       "  (encoder): BertEncoder(\n",
       "    (layer): ModuleList(\n",
       "      (0-11): 12 x BertLayer(\n",
       "        (attention): BertAttention(\n",
       "          (self): BertSdpaSelfAttention(\n",
       "            (query): Linear(in_features=768, out_features=768, bias=True)\n",
       "            (key): Linear(in_features=768, out_features=768, bias=True)\n",
       "            (value): Linear(in_features=768, out_features=768, bias=True)\n",
       "            (dropout): Dropout(p=0.1, inplace=False)\n",
       "          )\n",
       "          (output): BertSelfOutput(\n",
       "            (dense): Linear(in_features=768, out_features=768, bias=True)\n",
       "            (LayerNorm): LayerNorm((768,), eps=1e-12, elementwise_affine=True)\n",
       "            (dropout): Dropout(p=0.1, inplace=False)\n",
       "          )\n",
       "        )\n",
       "        (intermediate): BertIntermediate(\n",
       "          (dense): Linear(in_features=768, out_features=3072, bias=True)\n",
       "          (intermediate_act_fn): GELUActivation()\n",
       "        )\n",
       "        (output): BertOutput(\n",
       "          (dense): Linear(in_features=3072, out_features=768, bias=True)\n",
       "          (LayerNorm): LayerNorm((768,), eps=1e-12, elementwise_affine=True)\n",
       "          (dropout): Dropout(p=0.1, inplace=False)\n",
       "        )\n",
       "      )\n",
       "    )\n",
       "  )\n",
       "  (pooler): BertPooler(\n",
       "    (dense): Linear(in_features=768, out_features=768, bias=True)\n",
       "    (activation): Tanh()\n",
       "  )\n",
       ")"
      ]
     },
     "execution_count": 28,
     "metadata": {},
     "output_type": "execute_result"
    }
   ],
   "source": [
    "import torch\n",
    "from transformers import BertTokenizer, BertModel\n",
    "tokenizer = BertTokenizer.from_pretrained('bert-base-uncased')\n",
    "# Load pre-trained model \n",
    "model = BertModel.from_pretrained('bert-base-uncased',\n",
    "                                  output_hidden_states = True, # to access the hidden states\n",
    "                                  )\n",
    "# set the model to \"evaluation\" mode\n",
    "model.eval()"
   ]
  },
  {
   "cell_type": "markdown",
   "metadata": {},
   "source": [
    "### Tokenizer\n",
    "\n",
    "Language models are trained with a specific breakdown of sentences into tokens. These tokens can be words or parts of words. It is necessary to use the tokenizer corresponding to each model.\n",
    "\n",
    "tokenizer.vocab.keys() gives the list of all the tokens known for the language model. \n",
    "\n",
    "#### Question\n",
    ">* How many different tokens are known to the BERT tokenizer?\n",
    ">* Display a hundred tokens at random. What do you find?"
   ]
  },
  {
   "cell_type": "code",
   "execution_count": 38,
   "metadata": {},
   "outputs": [
    {
     "name": "stdout",
     "output_type": "stream",
     "text": [
      "30522\n"
     ]
    },
    {
     "data": {
      "text/plain": [
       "['largely',\n",
       " 'points',\n",
       " 'erin',\n",
       " 'woody',\n",
       " 'nutrient',\n",
       " 'innocence',\n",
       " '##pala',\n",
       " 'cheers',\n",
       " 'adi',\n",
       " 'universidad',\n",
       " 'confinement',\n",
       " 'confines',\n",
       " 'affiliated',\n",
       " 'consciously',\n",
       " 'residual',\n",
       " 'akbar',\n",
       " 'from',\n",
       " 'pony',\n",
       " '##xie',\n",
       " 'tutor',\n",
       " 'johnston',\n",
       " 'vineyard',\n",
       " 'pants',\n",
       " '##ul',\n",
       " 'jonathan',\n",
       " 'carole',\n",
       " 'unicorn',\n",
       " '##τ',\n",
       " '##英',\n",
       " 'mutation',\n",
       " 'gates',\n",
       " 'stinging',\n",
       " 'capturing',\n",
       " '##zar',\n",
       " 'neighbour',\n",
       " 'theodore',\n",
       " '##rrell',\n",
       " 'death',\n",
       " 'stade',\n",
       " '##清',\n",
       " 'songwriter',\n",
       " 'gentleman',\n",
       " 'ɪ',\n",
       " 'reopened',\n",
       " 'trails',\n",
       " 'succeeds',\n",
       " '##vating',\n",
       " '404',\n",
       " 'resulting',\n",
       " '##rent',\n",
       " 'dirt',\n",
       " 'sitting',\n",
       " '##islaus',\n",
       " 'waterways',\n",
       " 'lizzie',\n",
       " '##berman',\n",
       " '##bber',\n",
       " 'polymer',\n",
       " 'new',\n",
       " 'accessible',\n",
       " 'nightly',\n",
       " '##´',\n",
       " 'apparatus',\n",
       " 'caucus',\n",
       " 'rovers',\n",
       " 'palms',\n",
       " 'medallion',\n",
       " 'ec',\n",
       " '##dome',\n",
       " '##・',\n",
       " 'announcing',\n",
       " '1822',\n",
       " 'tunisian',\n",
       " '[unused26]',\n",
       " 'embrace',\n",
       " 'trade',\n",
       " 'ghana',\n",
       " '[unused96]',\n",
       " 'counsel',\n",
       " '1935',\n",
       " 'futile',\n",
       " 'deals',\n",
       " '##bbon',\n",
       " '##koto',\n",
       " '##eiro',\n",
       " 'binds',\n",
       " '★',\n",
       " 'diana',\n",
       " 'katie',\n",
       " 'geschichte',\n",
       " 'within',\n",
       " '##heart',\n",
       " 'courage',\n",
       " 'exaggerated',\n",
       " 'isn',\n",
       " '##all',\n",
       " 'radicals',\n",
       " 'phrase',\n",
       " 'dental',\n",
       " 'bed']"
      ]
     },
     "execution_count": 38,
     "metadata": {},
     "output_type": "execute_result"
    }
   ],
   "source": [
    "import random\n",
    "# number of token in tokenizer\n",
    "print(len(tokenizer.vocab.keys())) # There are 30,522 tokens in BERT tokenizer\n",
    "\n",
    "# YOU CODE HERE\n",
    "# sample of 100 tokens\n",
    "random.sample(list(tokenizer.vocab.keys()), 100)\n",
    "# YOU CODE HERE\n"
   ]
  },
  {
   "cell_type": "markdown",
   "metadata": {},
   "source": [
    "The tokenizer splits sentences and transforms the elements (words or sub-words) into clues. \n",
    "\n",
    "BERT can process several sentences, but you need to tell it how the sentences (segments) have been split, with an index: 0 for the first sentence, 1 for the second. \n",
    "\n",
    "Two specific tokens must also be added: \n",
    "* CLS], a specific token used for sentence classification\n",
    "* SEP], the end of sentence token.\n",
    "\n",
    "#### Question\n",
    ">* Apply the bert_tokenize function to the 3 phases and keep the 3 vectors (index, token, segment).\n",
    ">* Display this information for each of the sentences and check that the word *plant* has the same token index in the two sentences in which it appears."
   ]
  },
  {
   "cell_type": "code",
   "execution_count": 41,
   "metadata": {},
   "outputs": [
    {
     "name": "stdout",
     "output_type": "stream",
     "text": [
      "([101, 1996, 3269, 2038, 2584, 2049, 29160, 2504, 1997, 2537, 1012, 102], ['[CLS]', 'the', 'plant', 'has', 'reached', 'its', 'maximal', 'level', 'of', 'production', '.', '[SEP]'], [1, 1, 1, 1, 1, 1, 1, 1, 1, 1, 1, 1])\n",
      "([101, 1996, 3765, 2024, 9240, 2503, 1996, 4713, 1012, 102], ['[CLS]', 'the', 'cars', 'are', 'assembled', 'inside', 'the', 'factory', '.', '[SEP]'], [1, 1, 1, 1, 1, 1, 1, 1, 1, 1])\n",
      "([101, 1037, 3269, 3791, 9325, 1998, 2300, 2000, 4982, 2092, 1012, 102], ['[CLS]', 'a', 'plant', 'needs', 'sunlight', 'and', 'water', 'to', 'grow', 'well', '.', '[SEP]'], [1, 1, 1, 1, 1, 1, 1, 1, 1, 1, 1, 1])\n"
     ]
    }
   ],
   "source": [
    "snt1 = \"The plant has reached its maximal level of production.\"\n",
    "snt2 = \"The cars are assembled inside the factory.\"\n",
    "snt3 = \"A plant needs sunlight and water to grow well.\"\n",
    "\n",
    "\n",
    "def bert_tokenize(snt):\n",
    "    \"\"\" Apply the BERT tokenizer to a list of words representing a sentence\n",
    "        and return 3 lists: \n",
    "        - list of token indx\n",
    "        - list of token for debugging, not used by the BERT model\n",
    "        - list of sentence index\n",
    "        \"\"\"\n",
    "    # Add the special tokens.\n",
    "    tagged_snt = \"[CLS] \" + snt + \" [SEP]\" \n",
    "    # Tokenize\n",
    "    tokenized_snt = tokenizer.tokenize(tagged_snt)\n",
    "    # convert tokens to indices\n",
    "    indexed_snt = tokenizer.convert_tokens_to_ids(tokenized_snt)\n",
    "    # mark the words in sentence.\n",
    "    segments_ids = [1] * len(tokenized_snt)\n",
    "\n",
    "    return (indexed_snt, tokenized_snt, segments_ids)\n",
    "\n",
    "# YOUR CODE HERE\n",
    "print(bert_tokenize(snt1))\n",
    "print(bert_tokenize(snt2))\n",
    "print(bert_tokenize(snt3))\n",
    "\n",
    "\n"
   ]
  },
  {
   "cell_type": "code",
   "execution_count": 43,
   "metadata": {},
   "outputs": [
    {
     "data": {
      "text/plain": [
       "[101, 1996, 3269, 2038, 2584, 2049, 29160, 2504, 1997, 2537, 1012, 102]"
      ]
     },
     "execution_count": 43,
     "metadata": {},
     "output_type": "execute_result"
    }
   ],
   "source": [
    "bert_tokenize(snt1)[0] # Sanity check"
   ]
  },
  {
   "cell_type": "markdown",
   "metadata": {},
   "source": [
    "## Inference\n",
    "\n",
    "To calculate embeddings, we need to make a prediction using the BERT model on a complete sentence. The *predict_hidden* function converts the token and segment index lists into a pytorch tensor and applies the model. \n",
    "\n",
    "The model used is a 12-layer model. We will use the last hidden layer of the model as an embedding to represent the words. Other solutions are possible, such as concatenation or averaging of several layers.\n",
    "\n",
    "\n",
    "#### Question\n",
    ">* Apply the model to each of the 3 sentences and store the resulting embeddings (tensors).\n",
    ">* Display the dimension of the resulting tensors. What is the dimension of the embedding vector for each word?"
   ]
  },
  {
   "cell_type": "code",
   "execution_count": 46,
   "metadata": {},
   "outputs": [],
   "source": [
    "\n",
    "def predict_hidden(indexed_snt, segments_ids):\n",
    "    \"\"\"Apply the BERT model to the input token indices and segment indices\n",
    "        and return the last hidden layer\n",
    "    \"\"\"\n",
    "    with torch.no_grad():\n",
    "        # Convert inputs to PyTorch tensors\n",
    "        tokens_tensor = torch.tensor([indexed_snt])\n",
    "        segments_tensors = torch.tensor([segments_ids])\n",
    "        outputs = model(tokens_tensor, segments_tensors)\n",
    "        hidden_states = outputs[2]\n",
    "        one_hidden_layer = hidden_states[12][0]\n",
    "        \n",
    "    return one_hidden_layer\n",
    "\n",
    "tensor_snt1 = predict_hidden(bert_tokenize(snt1)[0], bert_tokenize(snt1)[2])\n",
    "tensor_snt2 = predict_hidden(bert_tokenize(snt2)[0], bert_tokenize(snt2)[2])\n",
    "tensor_snt3 = predict_hidden(bert_tokenize(snt3)[0], bert_tokenize(snt3)[2])\n",
    "\n"
   ]
  },
  {
   "cell_type": "code",
   "execution_count": 53,
   "metadata": {},
   "outputs": [
    {
     "data": {
      "text/plain": [
       "torch.Size([12, 768])"
      ]
     },
     "execution_count": 53,
     "metadata": {},
     "output_type": "execute_result"
    }
   ],
   "source": [
    "tensor_snt1.size()"
   ]
  },
  {
   "cell_type": "code",
   "execution_count": 54,
   "metadata": {},
   "outputs": [
    {
     "data": {
      "text/plain": [
       "torch.Size([10, 768])"
      ]
     },
     "execution_count": 54,
     "metadata": {},
     "output_type": "execute_result"
    }
   ],
   "source": [
    "tensor_snt2.size()"
   ]
  },
  {
   "cell_type": "code",
   "execution_count": 55,
   "metadata": {},
   "outputs": [
    {
     "data": {
      "text/plain": [
       "torch.Size([12, 768])"
      ]
     },
     "execution_count": 55,
     "metadata": {},
     "output_type": "execute_result"
    }
   ],
   "source": [
    "tensor_snt3.size()"
   ]
  },
  {
   "cell_type": "markdown",
   "metadata": {},
   "source": [
    "The hidden layer returned by the *predict_hidden* function is a tensor containing a context vector representing each token in the input sentence. We can use this vector to represent the meaning of this word as a function of its context. We're going to compare the representation of the polysemous word *plant* as a function of its context.\n",
    "\n",
    "#### Question\n",
    ">* Using the [cosine distance](https://docs.scipy.org/doc/scipy/reference/generated/scipy.spatial.distance.cosine.html), calculate the following distances:\n",
    "> * distance between *plant* in sentence 1 (plant-factory) and *plant* in sentence 3 (plant-vegetal)\n",
    "> * distance between *plant* in sentence 1 (plant-factory) and *factory* in sentence 2 (plant-vegetal) \n",
    "> * distance between *plant* in sentence 1 (plant-factory) and *production* in sentence 2 \n",
    "> distance between *plant* in sentence 3 (plant-vegetal) and *production* in sentence 2 \n",
    "> How can we interpret these distances?"
   ]
  },
  {
   "cell_type": "code",
   "execution_count": 58,
   "metadata": {},
   "outputs": [
    {
     "name": "stdout",
     "output_type": "stream",
     "text": [
      "0.4986630081588659\n",
      "0.31225684298093037\n",
      "0.6200192605958189\n",
      "0.24017344889095793\n"
     ]
    }
   ],
   "source": [
    "from scipy.spatial.distance import cosine\n",
    "\n",
    "print(cosine(tensor_snt1[2], tensor_snt3[2])) # plant in sentences 1 and 3\n",
    "print(cosine(tensor_snt1[2], tensor_snt2[7])) # plant in sentence 1 and factory in sentence 2\n",
    "print(cosine(tensor_snt3[2], tensor_snt1[9])) # plant in sentence 3 and production in sentence 1\n",
    "print(cosine(tensor_snt1[2], tensor_snt1[9])) # plant in sentence 1 and production in sentence 1\n",
    "# plant as a factory is closer to production than plant as a vegetal plant is\n",
    "# production and plant in same sentence is closer than production and factory"
   ]
  }
 ],
 "metadata": {
  "kernelspec": {
   "display_name": "Python 3 (ipykernel)",
   "language": "python",
   "name": "python3"
  },
  "language_info": {
   "codemirror_mode": {
    "name": "ipython",
    "version": 3
   },
   "file_extension": ".py",
   "mimetype": "text/x-python",
   "name": "python",
   "nbconvert_exporter": "python",
   "pygments_lexer": "ipython3",
   "version": "3.11.5"
  }
 },
 "nbformat": 4,
 "nbformat_minor": 4
}
